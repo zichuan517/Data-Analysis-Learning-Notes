{
 "cells": [
  {
   "cell_type": "markdown",
   "id": "15f89227-e2cb-476f-a0e1-d1843c5ae0cb",
   "metadata": {},
   "source": [
    "# Series"
   ]
  },
  {
   "cell_type": "code",
   "execution_count": 2,
   "id": "90fd8fbb-5df3-483f-a099-1b2cc0852416",
   "metadata": {},
   "outputs": [],
   "source": [
    "import pandas as pd"
   ]
  },
  {
   "cell_type": "markdown",
   "id": "b348a5be-dc3a-41d9-97a1-68129cc4dd1f",
   "metadata": {},
   "source": [
    "### 1.创建Series"
   ]
  },
  {
   "cell_type": "code",
   "execution_count": 3,
   "id": "6a6f8f41-b24d-4a86-a3b2-86f277d11250",
   "metadata": {
    "scrolled": true
   },
   "outputs": [
    {
     "data": {
      "text/plain": [
       "0     5\n",
       "1    17\n",
       "2     3\n",
       "3    26\n",
       "4    31\n",
       "dtype: int64"
      ]
     },
     "execution_count": 3,
     "metadata": {},
     "output_type": "execute_result"
    }
   ],
   "source": [
    "s1 = pd.Series([5,17,3,26,31])\n",
    "s1"
   ]
  },
  {
   "cell_type": "markdown",
   "id": "e6d9e4a8-8ee4-4852-95d0-bff5d8d42197",
   "metadata": {},
   "source": [
    "### 2.获得Series的元素和索引"
   ]
  },
  {
   "cell_type": "code",
   "execution_count": 4,
   "id": "3917f9e0-fc8f-4a22-8929-ef7cbdd395a7",
   "metadata": {},
   "outputs": [
    {
     "data": {
      "text/plain": [
       "array([ 5, 17,  3, 26, 31])"
      ]
     },
     "execution_count": 4,
     "metadata": {},
     "output_type": "execute_result"
    }
   ],
   "source": [
    "s1.values"
   ]
  },
  {
   "cell_type": "code",
   "execution_count": 5,
   "id": "0f30d40a-edbb-44f8-add4-2354032a1ab6",
   "metadata": {},
   "outputs": [
    {
     "data": {
      "text/plain": [
       "RangeIndex(start=0, stop=5, step=1)"
      ]
     },
     "execution_count": 5,
     "metadata": {},
     "output_type": "execute_result"
    }
   ],
   "source": [
    "s1.index"
   ]
  },
  {
   "cell_type": "markdown",
   "id": "c138f35f-17e7-4abb-9b3e-bd01ea55907b",
   "metadata": {},
   "source": [
    "### 3.索引和切片操作"
   ]
  },
  {
   "cell_type": "code",
   "execution_count": 6,
   "id": "ab7cfe31-6576-49b6-a9ad-0940bac77f99",
   "metadata": {},
   "outputs": [
    {
     "data": {
      "text/plain": [
       "np.int64(3)"
      ]
     },
     "execution_count": 6,
     "metadata": {},
     "output_type": "execute_result"
    }
   ],
   "source": [
    "s1[2]"
   ]
  },
  {
   "cell_type": "code",
   "execution_count": 7,
   "id": "5e351995-0490-4e29-96cc-1ca3be036536",
   "metadata": {},
   "outputs": [
    {
     "data": {
      "text/plain": [
       "1    17\n",
       "2     3\n",
       "dtype: int64"
      ]
     },
     "execution_count": 7,
     "metadata": {},
     "output_type": "execute_result"
    }
   ],
   "source": [
    "s1[1:3]"
   ]
  },
  {
   "cell_type": "markdown",
   "id": "6f0652ec-8149-49e5-97a6-ae3704cc92c0",
   "metadata": {},
   "source": [
    "### 4.操作索引"
   ]
  },
  {
   "cell_type": "code",
   "execution_count": 8,
   "id": "e3aac36a-bbbf-4f18-8466-6984185f0ff4",
   "metadata": {},
   "outputs": [],
   "source": [
    "s1 = pd.Series([5,17,3,26,31],index=[\"a\",\"b\",\"c\",\"d\",\"e\"])"
   ]
  },
  {
   "cell_type": "markdown",
   "id": "caf088cf-ddfa-408d-a64c-6850559f9609",
   "metadata": {},
   "source": [
    "#### (i)  标签索引"
   ]
  },
  {
   "cell_type": "code",
   "execution_count": 9,
   "id": "8949b54c-cad4-4c21-b6c8-dcf622383575",
   "metadata": {},
   "outputs": [
    {
     "data": {
      "text/plain": [
       "np.int64(17)"
      ]
     },
     "execution_count": 9,
     "metadata": {},
     "output_type": "execute_result"
    }
   ],
   "source": [
    "s1[\"b\"]"
   ]
  },
  {
   "cell_type": "markdown",
   "id": "b080bc53-3327-4375-9823-db2acbe85700",
   "metadata": {},
   "source": [
    "#### 注意：用标签所以做切片时，包含结束值"
   ]
  },
  {
   "cell_type": "code",
   "execution_count": 12,
   "id": "c089c1a1-7aa3-48f4-807b-fff45cbcdb52",
   "metadata": {},
   "outputs": [
    {
     "data": {
      "text/plain": [
       "b    17\n",
       "c     3\n",
       "d    26\n",
       "dtype: int64"
      ]
     },
     "execution_count": 12,
     "metadata": {},
     "output_type": "execute_result"
    }
   ],
   "source": [
    "s1[\"b\":\"d\"]"
   ]
  },
  {
   "cell_type": "code",
   "execution_count": 13,
   "id": "f40fd840-107c-4e44-9687-d5832a0d6e26",
   "metadata": {},
   "outputs": [
    {
     "data": {
      "text/plain": [
       "a     5\n",
       "e    31\n",
       "c     3\n",
       "dtype: int64"
      ]
     },
     "execution_count": 13,
     "metadata": {},
     "output_type": "execute_result"
    }
   ],
   "source": [
    "s1[[\"a\",\"e\",\"c\"]]"
   ]
  },
  {
   "cell_type": "markdown",
   "id": "5e0d2a9e-9c0f-4b04-a5d3-35c3f253dbc5",
   "metadata": {},
   "source": [
    "#### (ii)  位置索引"
   ]
  },
  {
   "cell_type": "code",
   "execution_count": 11,
   "id": "04eb3b4f-adfb-4431-953c-b62120b5476b",
   "metadata": {},
   "outputs": [
    {
     "name": "stderr",
     "output_type": "stream",
     "text": [
      "C:\\Users\\13791\\AppData\\Local\\Temp\\ipykernel_34528\\371843902.py:1: FutureWarning: Series.__getitem__ treating keys as positions is deprecated. In a future version, integer keys will always be treated as labels (consistent with DataFrame behavior). To access a value by position, use `ser.iloc[pos]`\n",
      "  s1[1]\n"
     ]
    },
    {
     "data": {
      "text/plain": [
       "np.int64(17)"
      ]
     },
     "execution_count": 11,
     "metadata": {},
     "output_type": "execute_result"
    }
   ],
   "source": [
    "s1[1]"
   ]
  },
  {
   "cell_type": "code",
   "execution_count": 14,
   "id": "d9b629d6-0358-4831-b359-bb33e60eb9be",
   "metadata": {},
   "outputs": [
    {
     "data": {
      "text/plain": [
       "b    17\n",
       "c     3\n",
       "d    26\n",
       "dtype: int64"
      ]
     },
     "execution_count": 14,
     "metadata": {},
     "output_type": "execute_result"
    }
   ],
   "source": [
    "s1[1:4]"
   ]
  },
  {
   "cell_type": "code",
   "execution_count": 15,
   "id": "c4da80ff-76cd-45b8-b791-ea1c8c1c2fe1",
   "metadata": {},
   "outputs": [
    {
     "name": "stderr",
     "output_type": "stream",
     "text": [
      "C:\\Users\\13791\\AppData\\Local\\Temp\\ipykernel_34528\\4268990401.py:1: FutureWarning: Series.__getitem__ treating keys as positions is deprecated. In a future version, integer keys will always be treated as labels (consistent with DataFrame behavior). To access a value by position, use `ser.iloc[pos]`\n",
      "  s1[[0,4,3]]\n"
     ]
    },
    {
     "data": {
      "text/plain": [
       "a     5\n",
       "e    31\n",
       "d    26\n",
       "dtype: int64"
      ]
     },
     "execution_count": 15,
     "metadata": {},
     "output_type": "execute_result"
    }
   ],
   "source": [
    "s1[[0,4,3]]"
   ]
  },
  {
   "cell_type": "markdown",
   "id": "fc59add7-2a16-47a3-8885-f9ed9e19a1b9",
   "metadata": {},
   "source": [
    "#### 注：用整数做索引取值或切片时，索引取值时按照标签，切片时按照位置"
   ]
  },
  {
   "cell_type": "markdown",
   "id": "64a33c59-40e6-4b88-b9c4-6c9e657e23ea",
   "metadata": {},
   "source": [
    "#### (iii)区分标签索引和位置索引"
   ]
  },
  {
   "cell_type": "code",
   "execution_count": 22,
   "id": "fe3b6748-6b59-4bde-bc9c-e8b3db8ba128",
   "metadata": {},
   "outputs": [],
   "source": [
    "s2 = pd.Series([5,17,3,26,31],index=[1,3,5,7,9])"
   ]
  },
  {
   "cell_type": "markdown",
   "id": "083a8441-c730-4a61-83ae-892218cf2894",
   "metadata": {},
   "source": [
    "##### loc-用标签索引"
   ]
  },
  {
   "cell_type": "code",
   "execution_count": 23,
   "id": "5f99d39b-b8ea-487e-928f-f53fe896a151",
   "metadata": {},
   "outputs": [
    {
     "data": {
      "text/plain": [
       "1     5\n",
       "3    17\n",
       "dtype: int64"
      ]
     },
     "execution_count": 23,
     "metadata": {},
     "output_type": "execute_result"
    }
   ],
   "source": [
    "s2.loc[1:3]"
   ]
  },
  {
   "cell_type": "markdown",
   "id": "6dfc3cd5-65dc-4dfe-95da-819206731178",
   "metadata": {},
   "source": [
    "##### iloc-用位置索引"
   ]
  },
  {
   "cell_type": "code",
   "execution_count": 24,
   "id": "81dc4dc8-dfd3-4f65-8f27-c62d5742cfa8",
   "metadata": {},
   "outputs": [
    {
     "data": {
      "text/plain": [
       "3    17\n",
       "5     3\n",
       "dtype: int64"
      ]
     },
     "execution_count": 24,
     "metadata": {},
     "output_type": "execute_result"
    }
   ],
   "source": [
    "s2.iloc[1:3]"
   ]
  },
  {
   "cell_type": "markdown",
   "id": "37a81fb6-625a-403f-b1e6-43b3c383091e",
   "metadata": {},
   "source": [
    "### 5.创建Series的另一种方式"
   ]
  },
  {
   "cell_type": "markdown",
   "id": "7000167d-21cd-49dd-8fbd-7b999cf17b44",
   "metadata": {},
   "source": [
    "#### (i)给Series这个构造函数直接传入一个字典，字典的键会自动变成值所对应的标签索引"
   ]
  },
  {
   "cell_type": "code",
   "execution_count": 30,
   "id": "6b1c2ec7-179c-40b6-a2fa-107310aebb9e",
   "metadata": {
    "scrolled": true
   },
   "outputs": [],
   "source": [
    "s3 = pd.Series({\"青菜\":4.1, \"白萝卜\":2.2, \"西红柿\":5.3, \"土豆\":3.7, \"黄瓜\":6.8})"
   ]
  },
  {
   "cell_type": "markdown",
   "id": "303c5001-c744-4200-bac0-3e92131346c1",
   "metadata": {},
   "source": [
    "#### (ii)产看标签是否存在"
   ]
  },
  {
   "cell_type": "code",
   "execution_count": 31,
   "id": "ba32c65d-c9e7-4b06-9f7a-50a52c03a073",
   "metadata": {},
   "outputs": [
    {
     "data": {
      "text/plain": [
       "True"
      ]
     },
     "execution_count": 31,
     "metadata": {},
     "output_type": "execute_result"
    }
   ],
   "source": [
    "\"青菜\" in s3"
   ]
  },
  {
   "cell_type": "markdown",
   "id": "acb341f0-ef01-4c2e-8a02-42ebdd874e87",
   "metadata": {},
   "source": [
    "#### (iii)修改Series里的值"
   ]
  },
  {
   "cell_type": "code",
   "execution_count": 33,
   "id": "3d12d94d-1d35-4e7c-9541-01541cd976db",
   "metadata": {},
   "outputs": [],
   "source": [
    "s3.loc[\"青菜\"] = 4.5"
   ]
  },
  {
   "cell_type": "code",
   "execution_count": 34,
   "id": "da7dd20d-31e9-4b81-96f1-0bf2a9b06905",
   "metadata": {},
   "outputs": [],
   "source": [
    "s3.iloc[0] = 4.5"
   ]
  },
  {
   "cell_type": "markdown",
   "id": "cf767d8c-e8f0-4340-9cb7-3be0b90ee868",
   "metadata": {},
   "source": [
    "#### (iv)根据条件筛选Series元素"
   ]
  },
  {
   "cell_type": "code",
   "execution_count": 35,
   "id": "47b71553-4295-4bcf-8457-264d6483fa28",
   "metadata": {},
   "outputs": [
    {
     "data": {
      "text/plain": [
       "西红柿    5.3\n",
       "黄瓜     6.8\n",
       "dtype: float64"
      ]
     },
     "execution_count": 35,
     "metadata": {},
     "output_type": "execute_result"
    }
   ],
   "source": [
    "s3 [ s3 > 5 ]"
   ]
  },
  {
   "cell_type": "code",
   "execution_count": 36,
   "id": "f98ba423-9d81-461d-9528-1e22602cfe63",
   "metadata": {},
   "outputs": [
    {
     "data": {
      "text/plain": [
       "白萝卜    2.2\n",
       "西红柿    5.3\n",
       "黄瓜     6.8\n",
       "dtype: float64"
      ]
     },
     "execution_count": 36,
     "metadata": {},
     "output_type": "execute_result"
    }
   ],
   "source": [
    "s3 [ (s3 > 5) | (s3 < 3) ]"
   ]
  }
 ],
 "metadata": {
  "kernelspec": {
   "display_name": "Python 3 (ipykernel)",
   "language": "python",
   "name": "python3"
  },
  "language_info": {
   "codemirror_mode": {
    "name": "ipython",
    "version": 3
   },
   "file_extension": ".py",
   "mimetype": "text/x-python",
   "name": "python",
   "nbconvert_exporter": "python",
   "pygments_lexer": "ipython3",
   "version": "3.13.7"
  }
 },
 "nbformat": 4,
 "nbformat_minor": 5
}
