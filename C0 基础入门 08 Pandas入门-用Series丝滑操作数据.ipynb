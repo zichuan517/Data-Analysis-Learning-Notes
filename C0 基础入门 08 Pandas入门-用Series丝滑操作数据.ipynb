{
 "cells": [
  {
   "cell_type": "markdown",
   "id": "4f4f1b58-8c2b-4ebe-944d-debc621627b4",
   "metadata": {},
   "source": [
    "# 1.Series和Series操作"
   ]
  },
  {
   "cell_type": "markdown",
   "id": "fe75bd45-00be-4ebe-b46b-cf0c108f6870",
   "metadata": {},
   "source": [
    "### (1)Pandas自动根据索引排序并对齐，如果某个索引只在一个Series中出现，结果为NaN(Not a Number)\n",
    "### 如果希望给缺失的值一个默认值，用方法而非符号来操作"
   ]
  },
  {
   "cell_type": "code",
   "execution_count": 1,
   "id": "7241277b-22c2-47c0-b244-1ad8eefca662",
   "metadata": {},
   "outputs": [],
   "source": [
    "import pandas as pd"
   ]
  },
  {
   "cell_type": "markdown",
   "id": "70042222-3e19-457e-b183-e85353ba7950",
   "metadata": {},
   "source": [
    "#### (i)加法"
   ]
  },
  {
   "cell_type": "code",
   "execution_count": 2,
   "id": "4adcf480-606e-4200-b863-37058411b2b8",
   "metadata": {},
   "outputs": [],
   "source": [
    "s1 = pd.Series([1,4,2,3,5],index=[1,3,5,7,9])\n",
    "s2 = pd.Series([8,1,7,3,9],index=[1,2,3,5,10])"
   ]
  },
  {
   "cell_type": "code",
   "execution_count": 3,
   "id": "0de07e16-ecf0-4115-b97c-6201232ac770",
   "metadata": {},
   "outputs": [
    {
     "data": {
      "text/plain": [
       "1      9.0\n",
       "2      1.0\n",
       "3     11.0\n",
       "5      5.0\n",
       "7      3.0\n",
       "9      5.0\n",
       "10     9.0\n",
       "dtype: float64"
      ]
     },
     "execution_count": 3,
     "metadata": {},
     "output_type": "execute_result"
    }
   ],
   "source": [
    "s1.add(s2,fill_value=0)"
   ]
  },
  {
   "cell_type": "code",
   "execution_count": 4,
   "id": "f02b3d04-5b5a-4c1d-a507-ca675dc07c79",
   "metadata": {
    "jp-MarkdownHeadingCollapsed": true,
    "scrolled": true
   },
   "outputs": [
    {
     "data": {
      "text/plain": [
       "1      9.0\n",
       "2      NaN\n",
       "3     11.0\n",
       "5      5.0\n",
       "7      NaN\n",
       "9      NaN\n",
       "10     NaN\n",
       "dtype: float64"
      ]
     },
     "execution_count": 4,
     "metadata": {},
     "output_type": "execute_result"
    }
   ],
   "source": [
    "s1 + s2"
   ]
  },
  {
   "cell_type": "markdown",
   "id": "fb42470c-264b-4cff-8e01-a0e3e0ccad6f",
   "metadata": {},
   "source": [
    "#### (ii)减法"
   ]
  },
  {
   "cell_type": "code",
   "execution_count": 5,
   "id": "d19f7618-cb5f-41b3-9be9-9d5c66ff86ec",
   "metadata": {},
   "outputs": [
    {
     "data": {
      "text/plain": [
       "1    -7.0\n",
       "2    -1.0\n",
       "3    -3.0\n",
       "5    -1.0\n",
       "7     3.0\n",
       "9     5.0\n",
       "10   -9.0\n",
       "dtype: float64"
      ]
     },
     "execution_count": 5,
     "metadata": {},
     "output_type": "execute_result"
    }
   ],
   "source": [
    "s1.sub(s2,fill_value=0)"
   ]
  },
  {
   "cell_type": "markdown",
   "id": "6ae50cd9-5bee-4e8c-9881-a4f0a5be0a53",
   "metadata": {},
   "source": [
    "#### (iii)乘法"
   ]
  },
  {
   "cell_type": "code",
   "execution_count": 7,
   "id": "cb136b99-a36b-47d3-af7b-258f81ab435b",
   "metadata": {},
   "outputs": [
    {
     "data": {
      "text/plain": [
       "1     0.125000\n",
       "2     1.000000\n",
       "3     0.571429\n",
       "5     0.666667\n",
       "7     3.000000\n",
       "9     5.000000\n",
       "10    0.111111\n",
       "dtype: float64"
      ]
     },
     "execution_count": 7,
     "metadata": {},
     "output_type": "execute_result"
    }
   ],
   "source": [
    "s1.div(s2,fill_value=1)"
   ]
  },
  {
   "cell_type": "code",
   "execution_count": 8,
   "id": "efbf5d50-6dcb-48d7-949a-556e58eb1d76",
   "metadata": {},
   "outputs": [
    {
     "data": {
      "text/plain": [
       "1      8.0\n",
       "2      1.0\n",
       "3     28.0\n",
       "5      6.0\n",
       "7      3.0\n",
       "9      5.0\n",
       "10     9.0\n",
       "dtype: float64"
      ]
     },
     "execution_count": 8,
     "metadata": {},
     "output_type": "execute_result"
    }
   ],
   "source": [
    "s1.mul(s2,fill_value=1)"
   ]
  },
  {
   "cell_type": "markdown",
   "id": "df136489-ed20-4aa7-9cbe-b030df919816",
   "metadata": {},
   "source": [
    "### (2)好处：由于一般会利用标签索引表示不同对象的数据，即使不同Seriesk里数据顺序不同，计算时也会根据索引自动对齐"
   ]
  },
  {
   "cell_type": "markdown",
   "id": "426209a0-0cc6-429d-8e52-d60a7155f3cd",
   "metadata": {},
   "source": [
    "# 2.Series方法"
   ]
  },
  {
   "cell_type": "markdown",
   "id": "4ffd3757-9a88-4b92-b8ac-2e2b378022ad",
   "metadata": {},
   "source": [
    "#### (1)常用方法"
   ]
  },
  {
   "cell_type": "code",
   "execution_count": 10,
   "id": "bf9e7d28-0822-4ff8-8d44-b3e16a71e2ce",
   "metadata": {},
   "outputs": [
    {
     "data": {
      "text/plain": [
       "np.int64(5)"
      ]
     },
     "execution_count": 10,
     "metadata": {},
     "output_type": "execute_result"
    }
   ],
   "source": [
    "s1.max()"
   ]
  },
  {
   "cell_type": "code",
   "execution_count": 11,
   "id": "2170b554-e135-4b4b-9f0a-bf0208bcaf06",
   "metadata": {},
   "outputs": [
    {
     "data": {
      "text/plain": [
       "np.int64(1)"
      ]
     },
     "execution_count": 11,
     "metadata": {},
     "output_type": "execute_result"
    }
   ],
   "source": [
    "s1.min()"
   ]
  },
  {
   "cell_type": "code",
   "execution_count": 12,
   "id": "55371d93-d88d-4f1d-b028-5f8061d43f17",
   "metadata": {},
   "outputs": [
    {
     "data": {
      "text/plain": [
       "np.int64(15)"
      ]
     },
     "execution_count": 12,
     "metadata": {},
     "output_type": "execute_result"
    }
   ],
   "source": [
    "s1.sum()"
   ]
  },
  {
   "cell_type": "code",
   "execution_count": 14,
   "id": "ccd6f3dd-59a3-43e3-9ece-a7b0239123e4",
   "metadata": {},
   "outputs": [
    {
     "data": {
      "text/plain": [
       "np.float64(3.0)"
      ]
     },
     "execution_count": 14,
     "metadata": {},
     "output_type": "execute_result"
    }
   ],
   "source": [
    "s1.mean()"
   ]
  },
  {
   "cell_type": "markdown",
   "id": "f2bd7437-dac4-472d-8361-34906f630354",
   "metadata": {},
   "source": [
    "#### (2)describe"
   ]
  },
  {
   "cell_type": "code",
   "execution_count": 15,
   "id": "91b2a226-d775-4201-81bf-70b0f8595436",
   "metadata": {},
   "outputs": [
    {
     "data": {
      "text/plain": [
       "count    5.000000\n",
       "mean     3.000000\n",
       "std      1.581139\n",
       "min      1.000000\n",
       "25%      2.000000\n",
       "50%      3.000000\n",
       "75%      4.000000\n",
       "max      5.000000\n",
       "dtype: float64"
      ]
     },
     "execution_count": 15,
     "metadata": {},
     "output_type": "execute_result"
    }
   ],
   "source": [
    "s1.describe()"
   ]
  },
  {
   "cell_type": "markdown",
   "id": "3e4462b3-8541-486b-a4a7-1df418cd76c3",
   "metadata": {},
   "source": [
    "# 3.对元素分别操作"
   ]
  },
  {
   "cell_type": "markdown",
   "id": "e35c5759-a7f5-433e-8342-99dd04ebe0b2",
   "metadata": {},
   "source": [
    "### (1)广播机制，与Numpy相同"
   ]
  },
  {
   "cell_type": "markdown",
   "id": "288b44ee-1ef4-4ae4-b785-5e3b129c4baa",
   "metadata": {},
   "source": [
    "### (2)apply方法"
   ]
  },
  {
   "cell_type": "code",
   "execution_count": 22,
   "id": "298ae07b-8e34-4eb5-90fc-0468442237c8",
   "metadata": {},
   "outputs": [],
   "source": [
    "scores = pd.Series({\"小明\":92,\"小红\":67, \"小杰\":70, \"小丽\":88, \"小华\":76})"
   ]
  },
  {
   "cell_type": "code",
   "execution_count": 24,
   "id": "05b6d910-5288-446b-8585-026c45d92ac0",
   "metadata": {},
   "outputs": [
    {
     "data": {
      "text/plain": [
       "小明    A\n",
       "小红    D\n",
       "小杰    C\n",
       "小丽    B\n",
       "小华    C\n",
       "dtype: object"
      ]
     },
     "execution_count": 24,
     "metadata": {},
     "output_type": "execute_result"
    }
   ],
   "source": [
    "def get(score):\n",
    "    if score >= 90:\n",
    "        return 'A'\n",
    "    elif score >=80:\n",
    "        return 'B'\n",
    "    elif score >=70:\n",
    "        return 'C'\n",
    "    else:\n",
    "        return 'D'\n",
    "grades =scores.apply(get)\n",
    "grades"
   ]
  },
  {
   "cell_type": "markdown",
   "id": "d310084f-c6fa-4bf7-bc44-d322a2b70ade",
   "metadata": {},
   "source": [
    "#### 注：apply方法并不改变原有的数组，而是生成一个新的数组"
   ]
  },
  {
   "cell_type": "code",
   "execution_count": 27,
   "id": "cd2f004e-e1a6-43ae-97ce-8011ddfe5c08",
   "metadata": {},
   "outputs": [
    {
     "data": {
      "text/plain": [
       "小明    8464\n",
       "小红    4489\n",
       "小杰    4900\n",
       "小丽    7744\n",
       "小华    5776\n",
       "dtype: int64"
      ]
     },
     "execution_count": 27,
     "metadata": {},
     "output_type": "execute_result"
    }
   ],
   "source": [
    "squared_scores = scores.apply(lambda x: x*x)\n",
    "squared_scores"
   ]
  },
  {
   "cell_type": "code",
   "execution_count": null,
   "id": "5bbd1e8e-6e42-4068-bc87-13c4f2e30c00",
   "metadata": {},
   "outputs": [],
   "source": []
  }
 ],
 "metadata": {
  "kernelspec": {
   "display_name": "Python 3 (ipykernel)",
   "language": "python",
   "name": "python3"
  },
  "language_info": {
   "codemirror_mode": {
    "name": "ipython",
    "version": 3
   },
   "file_extension": ".py",
   "mimetype": "text/x-python",
   "name": "python",
   "nbconvert_exporter": "python",
   "pygments_lexer": "ipython3",
   "version": "3.13.7"
  }
 },
 "nbformat": 4,
 "nbformat_minor": 5
}
