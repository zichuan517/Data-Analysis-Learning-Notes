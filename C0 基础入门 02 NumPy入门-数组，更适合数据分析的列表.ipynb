{
 "cells": [
  {
   "cell_type": "code",
   "execution_count": 30,
   "id": "50bde56c-a6eb-4a6a-b360-0ee5d1876f8c",
   "metadata": {},
   "outputs": [],
   "source": [
    "import numpy as np"
   ]
  },
  {
   "cell_type": "code",
   "execution_count": 31,
   "id": "1b67a2f1-63ca-4e42-af23-8b63e8da9d5e",
   "metadata": {},
   "outputs": [
    {
     "data": {
      "text/plain": [
       "array([1, 2, 3])"
      ]
     },
     "execution_count": 31,
     "metadata": {},
     "output_type": "execute_result"
    }
   ],
   "source": [
    "arr1 = np.array([1,2,3])\n",
    "arr1"
   ]
  },
  {
   "cell_type": "code",
   "execution_count": 32,
   "id": "5edc9fb7-ea96-498a-9255-7e19150a0d48",
   "metadata": {
    "scrolled": true
   },
   "outputs": [
    {
     "data": {
      "text/plain": [
       "array([[1, 2, 3],\n",
       "       [4, 5, 6]])"
      ]
     },
     "execution_count": 32,
     "metadata": {},
     "output_type": "execute_result"
    }
   ],
   "source": [
    "arr2 = np.array([[1,2,3],[4,5,6]])\n",
    "arr2"
   ]
  },
  {
   "cell_type": "markdown",
   "id": "caeb0e20-5f9b-436d-8884-db8f2d3dbb85",
   "metadata": {},
   "source": [
    "ND：最左边有N个[，只允许同类型元素"
   ]
  },
  {
   "cell_type": "markdown",
   "id": "3848c9de-90d0-45c8-bad9-2da73267f8c5",
   "metadata": {},
   "source": [
    "# 一、返回数组属性"
   ]
  },
  {
   "cell_type": "markdown",
   "id": "05e9aa5c-b3d5-4b6d-8ae8-1e37765a544c",
   "metadata": {},
   "source": [
    "### 1.打印数组维度："
   ]
  },
  {
   "cell_type": "code",
   "execution_count": 39,
   "id": "c4e74e31-50b5-4231-be8e-101c00447645",
   "metadata": {},
   "outputs": [
    {
     "name": "stdout",
     "output_type": "stream",
     "text": [
      "1\n",
      "2\n"
     ]
    }
   ],
   "source": [
    "print(arr1.ndim)\n",
    "print(arr2.ndim)"
   ]
  },
  {
   "cell_type": "markdown",
   "id": "42cbf4cc-5114-4d92-bcc6-0b846495d9b5",
   "metadata": {},
   "source": [
    "### 2.返回元组，打印各个维度的元素的个数："
   ]
  },
  {
   "cell_type": "code",
   "execution_count": 34,
   "id": "74c85ccb-f175-4ebd-a70b-6b867f42646f",
   "metadata": {},
   "outputs": [
    {
     "name": "stdout",
     "output_type": "stream",
     "text": [
      "(3,)\n",
      "(2, 3)\n"
     ]
    }
   ],
   "source": [
    "print(arr1.shape)\n",
    "print(arr2.shape)"
   ]
  },
  {
   "cell_type": "markdown",
   "id": "6cb18ecc-1b4c-4c2d-9268-206aed4f369d",
   "metadata": {},
   "source": [
    "### 3.返回数组中元素的总个数"
   ]
  },
  {
   "cell_type": "code",
   "execution_count": 37,
   "id": "2ff04e65-b84a-4536-bdc9-df724f1315e2",
   "metadata": {},
   "outputs": [
    {
     "name": "stdout",
     "output_type": "stream",
     "text": [
      "3\n",
      "6\n"
     ]
    }
   ],
   "source": [
    "print(arr1.size)\n",
    "print(arr2.size)"
   ]
  },
  {
   "cell_type": "markdown",
   "id": "ec4b8632-9934-45d4-aa36-6626f2a9148c",
   "metadata": {},
   "source": [
    "### 4.返回数组元素的类型"
   ]
  },
  {
   "cell_type": "code",
   "execution_count": 38,
   "id": "fd0c61e8-7a02-4e7e-8a3d-3a967dc6f3d4",
   "metadata": {},
   "outputs": [
    {
     "name": "stdout",
     "output_type": "stream",
     "text": [
      "int64\n",
      "int64\n"
     ]
    }
   ],
   "source": [
    "print(arr1.dtype)\n",
    "print(arr2.dtype)"
   ]
  },
  {
   "cell_type": "markdown",
   "id": "3add9631-0474-4ba8-a9d4-fdcda42a4476",
   "metadata": {},
   "source": [
    "# 二、创建数组方法"
   ]
  },
  {
   "cell_type": "markdown",
   "id": "7da1a23e-f4b8-4a55-b60a-5c869c77681c",
   "metadata": {},
   "source": [
    "### 1.创建元素全部为0的数组"
   ]
  },
  {
   "cell_type": "code",
   "execution_count": 40,
   "id": "0c25a17f-ac46-49dd-b00a-14a1b9e37ceb",
   "metadata": {},
   "outputs": [
    {
     "data": {
      "text/plain": [
       "array([0., 0., 0.])"
      ]
     },
     "execution_count": 40,
     "metadata": {},
     "output_type": "execute_result"
    }
   ],
   "source": [
    "np.zeros(3)"
   ]
  },
  {
   "cell_type": "markdown",
   "id": "10d90e3f-a4db-4951-9158-5f7643a64b7d",
   "metadata": {},
   "source": [
    "### 2.创建元素全部为1的数组"
   ]
  },
  {
   "cell_type": "code",
   "execution_count": 41,
   "id": "16199c94-7f17-4ad9-8be9-496e834d98b3",
   "metadata": {},
   "outputs": [
    {
     "data": {
      "text/plain": [
       "array([1., 1., 1., 1., 1.])"
      ]
     },
     "execution_count": 41,
     "metadata": {},
     "output_type": "execute_result"
    }
   ],
   "source": [
    "np.ones(5)"
   ]
  },
  {
   "cell_type": "markdown",
   "id": "9787158d-f9ef-477c-86aa-9dc18b55dfe9",
   "metadata": {},
   "source": [
    "### 3.创建元素为数字序列的数组"
   ]
  },
  {
   "cell_type": "code",
   "execution_count": 42,
   "id": "905b7c3b-25a6-4ffe-b7a2-736554562bb1",
   "metadata": {},
   "outputs": [
    {
     "data": {
      "text/plain": [
       "array([5, 7, 9])"
      ]
     },
     "execution_count": 42,
     "metadata": {},
     "output_type": "execute_result"
    }
   ],
   "source": [
    "np.arange(5,10,2)"
   ]
  }
 ],
 "metadata": {
  "kernelspec": {
   "display_name": "Python 3 (ipykernel)",
   "language": "python",
   "name": "python3"
  },
  "language_info": {
   "codemirror_mode": {
    "name": "ipython",
    "version": 3
   },
   "file_extension": ".py",
   "mimetype": "text/x-python",
   "name": "python",
   "nbconvert_exporter": "python",
   "pygments_lexer": "ipython3",
   "version": "3.13.7"
  }
 },
 "nbformat": 4,
 "nbformat_minor": 5
}
