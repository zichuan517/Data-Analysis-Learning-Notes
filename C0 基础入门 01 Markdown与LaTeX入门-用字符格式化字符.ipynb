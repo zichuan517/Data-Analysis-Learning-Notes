{
 "cells": [
  {
   "cell_type": "markdown",
   "id": "5bb449f3-3e01-4bd7-a18c-d274a82b3c08",
   "metadata": {},
   "source": [
    "### 一、标题："
   ]
  },
  {
   "cell_type": "markdown",
   "id": "6fec6657-79b2-4f17-8cd6-5790b3373b33",
   "metadata": {},
   "source": [
    "# 一级标题"
   ]
  },
  {
   "cell_type": "markdown",
   "id": "faada1c7-7b90-47f7-ab98-403340ac5be0",
   "metadata": {},
   "source": [
    "## 二级标题"
   ]
  },
  {
   "cell_type": "markdown",
   "id": "82e07f2b-b416-4920-b90c-c7237415b8db",
   "metadata": {},
   "source": [
    "### 三级标题"
   ]
  },
  {
   "cell_type": "markdown",
   "id": "b28d1fb8-8cf2-410c-a6ec-2cfc5ed1b1ee",
   "metadata": {},
   "source": [
    "#### 四级标题"
   ]
  },
  {
   "cell_type": "markdown",
   "id": "50982397-831e-474a-b50c-695a8b52233d",
   "metadata": {},
   "source": [
    "##### 五级标题"
   ]
  },
  {
   "cell_type": "markdown",
   "id": "51da2592-d8cb-4ee3-81d8-8be0a1ece133",
   "metadata": {},
   "source": [
    "###### 六级标题"
   ]
  },
  {
   "cell_type": "markdown",
   "id": "d98f4fec-6b93-4f33-95d4-87b32c3767b5",
   "metadata": {},
   "source": [
    "### 二、样式："
   ]
  },
  {
   "cell_type": "markdown",
   "id": "472a36ab-a7d0-4104-9a84-fb619acb018d",
   "metadata": {},
   "source": [
    "**加粗**"
   ]
  },
  {
   "cell_type": "markdown",
   "id": "dc6fb5de-9afe-45da-94b8-ce2418d5a61f",
   "metadata": {},
   "source": [
    "*斜体*"
   ]
  },
  {
   "cell_type": "markdown",
   "id": "ab073aac-4202-4a7a-b902-498b7b17f15f",
   "metadata": {},
   "source": [
    "~~删除~~"
   ]
  },
  {
   "cell_type": "markdown",
   "id": "13fe9fe0-4c1e-413a-bfde-e9f66419d049",
   "metadata": {},
   "source": [
    "### 三、换行：  \n",
    "1.两个空格\n",
    "\n",
    "2.在加一个空行"
   ]
  },
  {
   "cell_type": "markdown",
   "id": "09251f34-a817-44cf-b7da-2e172948f60b",
   "metadata": {},
   "source": [
    "### 四、链接"
   ]
  },
  {
   "cell_type": "markdown",
   "id": "771ae36a-1d81-453e-940b-b372ebde5552",
   "metadata": {},
   "source": [
    "[myUSTC](https://wdkd.feixu.site/)"
   ]
  },
  {
   "cell_type": "markdown",
   "id": "49c3ca2d-c775-4f08-8984-9458ac3a6d97",
   "metadata": {},
   "source": [
    "### 五、公式："
   ]
  },
  {
   "cell_type": "markdown",
   "id": "a9536d76-efa0-4973-898b-c3dfb2e23e64",
   "metadata": {},
   "source": [
    "占一行的数学公式：$x^2+y^2=1$"
   ]
  },
  {
   "cell_type": "markdown",
   "id": "ec3550e1-c4d5-499f-b881-7c11c877a568",
   "metadata": {},
   "source": [
    "独占一行的数学公式：$$x^2+y^2=1$$"
   ]
  },
  {
   "cell_type": "markdown",
   "id": "f49ae818-a07d-4a84-a745-882dc217db93",
   "metadata": {},
   "source": [
    "### 六、快捷键：  \n",
    "1.A:above新建单元格  \n",
    "2.B:below新建单元格  \n",
    "3.DD:delete删除单元格  \n",
    "4.Shift+Enter:运行单元格  \n",
    "5.Shift+R：运行当前单元格，并跳到下一个单元格  \n",
    "6.M：切换到Markdown"
   ]
  },
  {
   "cell_type": "markdown",
   "id": "2b0f7419-8646-4af4-a23f-97a79139aa7b",
   "metadata": {},
   "source": [
    "### 七、列表"
   ]
  },
  {
   "cell_type": "markdown",
   "id": "c82b08c6-b02a-412d-ab77-ef17c79d66b1",
   "metadata": {},
   "source": [
    "#### 1.无序列表：\n",
    "使用 *、+ 或 - 符号，后跟空格。通过缩进创建多级列表。"
   ]
  },
  {
   "cell_type": "markdown",
   "id": "9146cb0b-6e5e-41de-95d0-355ddf76fdf6",
   "metadata": {},
   "source": [
    "* 水果\n",
    "  * 苹果\n",
    "  * 香蕉\n",
    "* 蔬菜\n",
    "  * 胡萝卜\n",
    "  * 菠菜"
   ]
  },
  {
   "cell_type": "markdown",
   "id": "0bc8647b-cc3e-412c-9c73-3c13d24e71c1",
   "metadata": {},
   "source": [
    "#### 2.有序列表：\n",
    "使用数字加句点，后跟空格"
   ]
  },
  {
   "cell_type": "markdown",
   "id": "f55a5c9d-d369-40d7-bf6e-e46c8b108d1e",
   "metadata": {},
   "source": [
    "1. 主要步骤\n",
    "   1. 子步骤一\n",
    "   2. 子步骤二\n",
    "2. 下一步"
   ]
  },
  {
   "cell_type": "markdown",
   "id": "12900a28-c945-4445-8946-114909836d1b",
   "metadata": {},
   "source": [
    "### 八、图片"
   ]
  },
  {
   "cell_type": "markdown",
   "id": "b521b3bf-7abf-4ea8-ba1e-acbdb56607cd",
   "metadata": {},
   "source": [
    "![win背景图](https://pic.rmb.bdstatic.com/bjh/bb91919feca5/241104/441f71d3a46fbe76b278bb9e64400e1f.jpeg)"
   ]
  },
  {
   "cell_type": "markdown",
   "id": "e25a5c9d-a03f-4eb9-9047-edb752a3b907",
   "metadata": {},
   "source": [
    "### 九、引用"
   ]
  },
  {
   "cell_type": "markdown",
   "id": "de017d36-c5b2-4ca7-b3ea-f5a05f184214",
   "metadata": {},
   "source": [
    "> 有一个道理不用讲  \n",
    "高城他爹是军长"
   ]
  },
  {
   "cell_type": "markdown",
   "id": "afe42c49-1efb-4ff4-a5f9-677367a544af",
   "metadata": {},
   "source": [
    "### 十、代码"
   ]
  },
  {
   "cell_type": "markdown",
   "id": "fa5e51da-5eac-43cc-9614-e2a6e68c20bd",
   "metadata": {},
   "source": [
    "在文字中插入代码：通过`import math`来引入math库  \n",
    "插入代码段落：  \n",
    "```python\n",
    "import math\n",
    "print(\"Hello World!\")\n",
    "print(math.pi)\n",
    "```"
   ]
  },
  {
   "cell_type": "markdown",
   "id": "75b3e9d8-df10-4669-896b-f3daabef39d0",
   "metadata": {},
   "source": [
    "### 十一、LaTeX"
   ]
  },
  {
   "cell_type": "markdown",
   "id": "530c2604-bce4-42b7-a5e4-6f68e7884e25",
   "metadata": {},
   "source": [
    "1. 加减乘除"
   ]
  },
  {
   "cell_type": "markdown",
   "id": "27482535-7e8b-405f-b2d1-53b2f63fd6fc",
   "metadata": {},
   "source": [
    "$$x+y$$  \n",
    "$$x-y$$  \n",
    "$$x\\times y$$  \n",
    "$$x\\div y$$"
   ]
  },
  {
   "cell_type": "markdown",
   "id": "c5a5adbe-c942-4253-9527-c7caaa0d010e",
   "metadata": {},
   "source": [
    "2. 上标下标"
   ]
  },
  {
   "cell_type": "markdown",
   "id": "4006a590-3e31-4ed1-b044-ac64e3dde7a3",
   "metadata": {},
   "source": [
    "$$x^3$$  \n",
    "$$H_2O$$  \n",
    "$$S_{input}$$"
   ]
  },
  {
   "cell_type": "markdown",
   "id": "249b7e29-94d1-4b76-a5c3-a1eff69b1d45",
   "metadata": {},
   "source": [
    "3. 求和求根"
   ]
  },
  {
   "cell_type": "markdown",
   "id": "51018f92-96e2-4831-8904-745f067a47b7",
   "metadata": {},
   "source": [
    "$$\\sum_{i=1}^∞(x_{i}^2+y_{i}^2)$$"
   ]
  },
  {
   "cell_type": "markdown",
   "id": "bb3074da-b941-4c30-886a-50a8f34aacd9",
   "metadata": {},
   "source": [
    "$$\\sum_{k=1}^n a_{k} b_{k} = (\\sum_{m=1}^n a_{m}) b_{n} - \\sum_{j=1}^{n-1}((\\sum_{i=1}^{j}a_{i})(b_{j+1}-b_{j})) $$"
   ]
  },
  {
   "cell_type": "markdown",
   "id": "531f0cf8-222c-4947-9b47-ddf62f277839",
   "metadata": {},
   "source": [
    "$$\\sqrt[n]x$$"
   ]
  },
  {
   "cell_type": "markdown",
   "id": "22a60771-2355-4eb4-9e47-a5fc51c8d601",
   "metadata": {},
   "source": [
    "$$\\sqrt[3]{a^2m^2}$$"
   ]
  },
  {
   "cell_type": "markdown",
   "id": "1ad7306c-91aa-4711-9197-98c704dc4857",
   "metadata": {},
   "source": [
    "4. 分数线"
   ]
  },
  {
   "cell_type": "markdown",
   "id": "e84d73a0-cd72-4b6a-bd20-9d08fb4e7aae",
   "metadata": {},
   "source": [
    "$$\\frac{x+y}{x-y}$$"
   ]
  },
  {
   "cell_type": "markdown",
   "id": "d45608b1-9fca-4180-8ab9-5c7e7f73f232",
   "metadata": {},
   "source": [
    "$$x^{\\frac{1}{n}}$$"
   ]
  },
  {
   "cell_type": "code",
   "execution_count": null,
   "id": "1488cc51-517d-4336-8016-875e6352d963",
   "metadata": {},
   "outputs": [],
   "source": []
  }
 ],
 "metadata": {
  "kernelspec": {
   "display_name": "Python 3 (ipykernel)",
   "language": "python",
   "name": "python3"
  },
  "language_info": {
   "codemirror_mode": {
    "name": "ipython",
    "version": 3
   },
   "file_extension": ".py",
   "mimetype": "text/x-python",
   "name": "python",
   "nbconvert_exporter": "python",
   "pygments_lexer": "ipython3",
   "version": "3.13.7"
  }
 },
 "nbformat": 4,
 "nbformat_minor": 5
}
