{
 "cells": [
  {
   "cell_type": "code",
   "execution_count": 1,
   "id": "1f75716e-5c71-4431-ac62-598a08264423",
   "metadata": {},
   "outputs": [],
   "source": [
    "import numpy as np"
   ]
  },
  {
   "cell_type": "markdown",
   "id": "6e4ea7d6-9d96-404f-a143-22315b184bab",
   "metadata": {},
   "source": [
    "## 一.连接数组"
   ]
  },
  {
   "cell_type": "code",
   "execution_count": 2,
   "id": "fcd215cd-93c3-4c50-af63-8760d3b6003b",
   "metadata": {},
   "outputs": [
    {
     "data": {
      "text/plain": [
       "array([ 5, 17,  3, 26, 31,  2])"
      ]
     },
     "execution_count": 2,
     "metadata": {},
     "output_type": "execute_result"
    }
   ],
   "source": [
    "arr1 = np.array([5,17,3,26,31])\n",
    "arr2 = np.array([2])\n",
    "np.concatenate([arr1,arr2])"
   ]
  },
  {
   "cell_type": "code",
   "execution_count": 6,
   "id": "881f091a-413f-4fe9-9f87-65c5720d3408",
   "metadata": {},
   "outputs": [
    {
     "data": {
      "text/plain": [
       "array([ 5., 17.,  3., 26., 31.,  2.,  1.,  1.,  1.])"
      ]
     },
     "execution_count": 6,
     "metadata": {},
     "output_type": "execute_result"
    }
   ],
   "source": [
    "arr3 = np.ones(3)\n",
    "np.concatenate([arr1,arr2,arr3])"
   ]
  },
  {
   "cell_type": "markdown",
   "id": "81195078-6620-4bc7-aa98-2b7bd2553def",
   "metadata": {},
   "source": [
    "## 二、数组排序"
   ]
  },
  {
   "cell_type": "markdown",
   "id": "238aeaa4-e2ba-457d-947f-47f28ad41224",
   "metadata": {},
   "source": [
    "#### 1.Numpy的sort函数"
   ]
  },
  {
   "cell_type": "code",
   "execution_count": 9,
   "id": "10af4937-657a-41c8-84c8-3d05a5d7b652",
   "metadata": {},
   "outputs": [
    {
     "name": "stdout",
     "output_type": "stream",
     "text": [
      "[ 3  5 17 26 31]\n",
      "[ 5 17  3 26 31]\n"
     ]
    }
   ],
   "source": [
    "print(np.sort(arr1))\n",
    "print(arr1)"
   ]
  },
  {
   "cell_type": "markdown",
   "id": "86d67792-da4b-4dca-960d-09b64f71b3d5",
   "metadata": {},
   "source": [
    "#### 2.Python内置的sort方法"
   ]
  },
  {
   "cell_type": "code",
   "execution_count": 19,
   "id": "509b3029-bbc8-4544-887e-4d562538dcea",
   "metadata": {
    "scrolled": true
   },
   "outputs": [
    {
     "name": "stdout",
     "output_type": "stream",
     "text": [
      "None\n",
      "[ 3  5 17 26 31]\n"
     ]
    }
   ],
   "source": [
    "arr1.sort()\n",
    "print(arr1)"
   ]
  },
  {
   "cell_type": "markdown",
   "id": "12ec244f-243a-4981-98d7-8b0c335f0bce",
   "metadata": {},
   "source": [
    "## 三、获取元素"
   ]
  },
  {
   "cell_type": "markdown",
   "id": "0a51a708-6603-4850-a39e-852f19e6d1b1",
   "metadata": {},
   "source": [
    "#### 1.用索引获得部分数组"
   ]
  },
  {
   "cell_type": "code",
   "execution_count": 20,
   "id": "24261c14-6c51-494f-b393-0a879e41436a",
   "metadata": {},
   "outputs": [
    {
     "data": {
      "text/plain": [
       "np.int64(3)"
      ]
     },
     "execution_count": 20,
     "metadata": {},
     "output_type": "execute_result"
    }
   ],
   "source": [
    "arr1[0]"
   ]
  },
  {
   "cell_type": "markdown",
   "id": "8baa08e9-937a-46a1-82c5-96a15cc3435c",
   "metadata": {},
   "source": [
    "#### 2.用切片获得部分数组"
   ]
  },
  {
   "cell_type": "code",
   "execution_count": 21,
   "id": "5cab20f8-e7a9-4ed3-88da-ced0cf231999",
   "metadata": {},
   "outputs": [
    {
     "data": {
      "text/plain": [
       "array([ 5, 17, 26])"
      ]
     },
     "execution_count": 21,
     "metadata": {},
     "output_type": "execute_result"
    }
   ],
   "source": [
    "arr1[1:4]"
   ]
  },
  {
   "cell_type": "markdown",
   "id": "dde40b1b-ff6a-4b52-ad3d-e1b5c43163fc",
   "metadata": {},
   "source": [
    "## 四、数组运算"
   ]
  },
  {
   "cell_type": "markdown",
   "id": "419d3e9f-2fea-4b11-8938-4631266ebf9b",
   "metadata": {},
   "source": [
    "#### 1.数组和数组进行运算："
   ]
  },
  {
   "cell_type": "code",
   "execution_count": 27,
   "id": "d08e905d-84b3-4baf-a497-c5ab5bd7edf9",
   "metadata": {},
   "outputs": [],
   "source": [
    "arr4 = np.array([1,1,4,5,1,4])\n",
    "arr5 = np.array([7,2,5,5,1,7])"
   ]
  },
  {
   "cell_type": "code",
   "execution_count": 28,
   "id": "add3c2d8-d844-4eab-8bb1-ca367bb58808",
   "metadata": {},
   "outputs": [
    {
     "data": {
      "text/plain": [
       "array([ 8,  3,  9, 10,  2, 11])"
      ]
     },
     "execution_count": 28,
     "metadata": {},
     "output_type": "execute_result"
    }
   ],
   "source": [
    "arr4 + arr5"
   ]
  },
  {
   "cell_type": "code",
   "execution_count": 29,
   "id": "82eca8d1-586c-4954-af82-1adca4edd2ba",
   "metadata": {},
   "outputs": [
    {
     "data": {
      "text/plain": [
       "array([6, 1, 1, 0, 0, 3])"
      ]
     },
     "execution_count": 29,
     "metadata": {},
     "output_type": "execute_result"
    }
   ],
   "source": [
    "arr5 - arr4"
   ]
  },
  {
   "cell_type": "code",
   "execution_count": 30,
   "id": "7f3f52f5-7e9c-4d99-be80-6289ac63a2bc",
   "metadata": {},
   "outputs": [
    {
     "data": {
      "text/plain": [
       "array([ 7,  2, 20, 25,  1, 28])"
      ]
     },
     "execution_count": 30,
     "metadata": {},
     "output_type": "execute_result"
    }
   ],
   "source": [
    "arr4 * arr5"
   ]
  },
  {
   "cell_type": "code",
   "execution_count": 31,
   "id": "9ea695b0-6896-47b3-97a0-c0185a643640",
   "metadata": {},
   "outputs": [
    {
     "data": {
      "text/plain": [
       "array([7.  , 2.  , 1.25, 1.  , 1.  , 1.75])"
      ]
     },
     "execution_count": 31,
     "metadata": {},
     "output_type": "execute_result"
    }
   ],
   "source": [
    "arr5 / arr4"
   ]
  },
  {
   "cell_type": "markdown",
   "id": "23da8eb3-4811-49e1-8e4f-f92e1367bbba",
   "metadata": {},
   "source": [
    "#### 2.数组和数据进行运算："
   ]
  },
  {
   "cell_type": "code",
   "execution_count": 32,
   "id": "9e0a1683-f2c0-4e3b-b547-f7a59ed924c3",
   "metadata": {},
   "outputs": [
    {
     "data": {
      "text/plain": [
       "array([ 3,  3, 12, 15,  3, 12])"
      ]
     },
     "execution_count": 32,
     "metadata": {},
     "output_type": "execute_result"
    }
   ],
   "source": [
    "arr4 * 3"
   ]
  },
  {
   "cell_type": "markdown",
   "id": "93ecf44f-446a-431f-a037-4eb41e64c967",
   "metadata": {},
   "source": [
    "广播机制是科学计算库（如NumPy）中的一种重要特性，它允许不同形状的数组进行数学运算，而无需显式复制数据。  \n",
    "基本规则：当两个数组进行运算时，广播机制按以下规则处理形状不匹配的情况：  \n",
    "1.从尾部维度开始比较  \n",
    "2.维度相等或其中一个为1时兼容  \n",
    "3.缺失维度自动补1  "
   ]
  },
  {
   "cell_type": "markdown",
   "id": "c6b85da4-b70a-48eb-a4a9-3ef1b9d3925d",
   "metadata": {},
   "source": [
    "#### 3.聚合运算方法（通过一组值得到一个值）："
   ]
  },
  {
   "cell_type": "code",
   "execution_count": 34,
   "id": "cf9758dd-4741-44dd-98cd-83355f474bba",
   "metadata": {},
   "outputs": [
    {
     "data": {
      "text/plain": [
       "np.int64(7)"
      ]
     },
     "execution_count": 34,
     "metadata": {},
     "output_type": "execute_result"
    }
   ],
   "source": [
    "arr5.max()"
   ]
  },
  {
   "cell_type": "code",
   "execution_count": 35,
   "id": "b7c091d3-5c30-4b10-b133-e4aef198308d",
   "metadata": {},
   "outputs": [
    {
     "data": {
      "text/plain": [
       "np.int64(1)"
      ]
     },
     "execution_count": 35,
     "metadata": {},
     "output_type": "execute_result"
    }
   ],
   "source": [
    "arr5.min()"
   ]
  },
  {
   "cell_type": "code",
   "execution_count": 36,
   "id": "d2aa0896-e947-42b2-92ba-a0c10dd3cb17",
   "metadata": {},
   "outputs": [
    {
     "data": {
      "text/plain": [
       "np.int64(27)"
      ]
     },
     "execution_count": 36,
     "metadata": {},
     "output_type": "execute_result"
    }
   ],
   "source": [
    "arr5.sum()"
   ]
  },
  {
   "cell_type": "code",
   "execution_count": 38,
   "id": "ef51450b-970b-4587-a50b-80f1fea55b39",
   "metadata": {},
   "outputs": [
    {
     "data": {
      "text/plain": [
       "np.float64(4.5)"
      ]
     },
     "execution_count": 38,
     "metadata": {},
     "output_type": "execute_result"
    }
   ],
   "source": [
    "arr5.mean()"
   ]
  },
  {
   "cell_type": "markdown",
   "id": "ee79fcb7-f767-4ad4-a311-faef281043f2",
   "metadata": {},
   "source": [
    "#### 4.根据条件筛选数组元素"
   ]
  },
  {
   "cell_type": "code",
   "execution_count": 39,
   "id": "39898cba-5a72-4388-8ae4-0eab097ff3f0",
   "metadata": {},
   "outputs": [
    {
     "data": {
      "text/plain": [
       "array([7, 5, 5, 7])"
      ]
     },
     "execution_count": 39,
     "metadata": {},
     "output_type": "execute_result"
    }
   ],
   "source": [
    "arr5[arr5 > 4]"
   ]
  },
  {
   "cell_type": "markdown",
   "id": "f554561a-f8e2-4efb-b75a-2c52251ef936",
   "metadata": {},
   "source": [
    "与：and：&  \n",
    "或：or ：|  \n",
    "非：not：~"
   ]
  },
  {
   "cell_type": "code",
   "execution_count": 42,
   "id": "59141054-dc33-4cda-b82d-2ad3ab241c41",
   "metadata": {},
   "outputs": [
    {
     "data": {
      "text/plain": [
       "array([4, 5, 4])"
      ]
     },
     "execution_count": 42,
     "metadata": {},
     "output_type": "execute_result"
    }
   ],
   "source": [
    "arr4[(arr4>3)&(arr4<6)]"
   ]
  },
  {
   "cell_type": "code",
   "execution_count": null,
   "id": "0fe176b2-021b-4519-a9d8-d5dd3bdd4bf1",
   "metadata": {},
   "outputs": [],
   "source": []
  }
 ],
 "metadata": {
  "kernelspec": {
   "display_name": "Python 3 (ipykernel)",
   "language": "python",
   "name": "python3"
  },
  "language_info": {
   "codemirror_mode": {
    "name": "ipython",
    "version": 3
   },
   "file_extension": ".py",
   "mimetype": "text/x-python",
   "name": "python",
   "nbconvert_exporter": "python",
   "pygments_lexer": "ipython3",
   "version": "3.13.7"
  }
 },
 "nbformat": 4,
 "nbformat_minor": 5
}
